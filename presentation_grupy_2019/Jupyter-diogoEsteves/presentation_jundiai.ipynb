{
 "cells": [
  {
   "cell_type": "markdown",
   "metadata": {
    "slideshow": {
     "slide_type": "slide"
    }
   },
   "source": [
    "<h1>Hi,</h1>\n",
    "\n",
    "\n",
    "\n",
    "\n",
    "\n",
    "<h2>Jupyter, não apenas para Data Science - como UM iniciante pode utilizar.</h2>\n",
    "\n",
    "\n",
    "\n",
    "<br>\n",
    "by: Diogo Esteves"
   ]
  },
  {
   "cell_type": "markdown",
   "metadata": {
    "slideshow": {
     "slide_type": "subslide"
    }
   },
   "source": [
    "Em primeiro:<br>\n",
    "&emsp;Sou Diogo Esteves<br>\n",
    "&emsp;Brasileiro<br>\n",
    "&emsp;Bacharel<br>\n",
    "&emsp;Estudante<br>\n",
    "&emsp;Enrolando a namorada.<br>\n",
    "&emsp;Entusiasta de muita coisa."
   ]
  },
  {
   "cell_type": "markdown",
   "metadata": {
    "slideshow": {
     "slide_type": "subslide"
    }
   },
   "source": [
    "Como cheguei até a linguagem Python (e comecei a utilizar Jupyter) ..."
   ]
  },
  {
   "cell_type": "markdown",
   "metadata": {
    "slideshow": {
     "slide_type": "slide"
    }
   },
   "source": [
    "ok, <br>\n",
    "\n",
    "\n",
    "\n",
    "O que é o Jupyter Notebook?<br>\n",
    "<img src=\"jupyter_logo.png\" style=\"height:200px\">"
   ]
  },
  {
   "cell_type": "markdown",
   "metadata": {
    "slideshow": {
     "slide_type": "subslide"
    }
   },
   "source": [
    "O que é o Jupyter Notebook?\n",
    "\n",
    "* Projeto Open Souce\n",
    "* Software que faz coisas especificas\n",
    "* Interativo\n",
    "* Software que suporta codigo executavel e texto narrativo, entrada de equações e vizualizações."
   ]
  },
  {
   "cell_type": "markdown",
   "metadata": {
    "slideshow": {
     "slide_type": "notes"
    }
   },
   "source": [
    "Em 2014, Fernando Pérez, criou um subproduto do projeto IPython que chamou de projeto Jupyter. Jupyter Notebook é um ambiente computacional web, interativo para criação de  documentos “Jupyter Notebooks”. O documento é um documento JSON com um esquema e contém uma lista ordenada de células que podem conter código, texto, fórmulas matemáticas, plotagens e imagens. A extensão dos notebooks é “.ipynb”."
   ]
  },
  {
   "cell_type": "markdown",
   "metadata": {
    "slideshow": {
     "slide_type": "subslide"
    }
   },
   "source": [
    "E sua estrutura segue o padrão:\n",
    "* Front end\n",
    "* Back end\n",
    "* Kernel\n",
    "<br>\n",
    "<img src=\"notebook_structure.png\">"
   ]
  },
  {
   "cell_type": "markdown",
   "metadata": {
    "slideshow": {
     "slide_type": "subslide"
    }
   },
   "source": [
    "##### No browser vai ficar:<br>\n",
    "\n",
    "<img src=\"notebook_browser.png\">"
   ]
  },
  {
   "cell_type": "markdown",
   "metadata": {
    "slideshow": {
     "slide_type": "slide"
    }
   },
   "source": [
    "#### Ta,\n",
    "<br>\n",
    "Quem utiliza o Jupyter?\n",
    "<br>\n",
    "<img src=\"jupyter_quemusa.png\" style=\"height:400px\">"
   ]
  },
  {
   "cell_type": "markdown",
   "metadata": {
    "slideshow": {
     "slide_type": "subslide"
    }
   },
   "source": [
    "Por que é tão utilizado em data analysis?"
   ]
  },
  {
   "cell_type": "markdown",
   "metadata": {
    "slideshow": {
     "slide_type": "subslide"
    }
   },
   "source": [
    "\"As IBM puts it, Jupyter lets you build a “computational narrative that distills data into insights.”\""
   ]
  },
  {
   "cell_type": "markdown",
   "metadata": {
    "slideshow": {
     "slide_type": "slide"
    }
   },
   "source": [
    "##### Como utilizar <br>\n",
    "*- Instalações: <br>\n",
    "    *= Windows<br>\n",
    "    *= Linux<br>\n",
    "    *= Mac<br>\n",
    "    *= via pip - pip3 install --upgrade pip && pip3 install jupyter<br>\n",
    "\n",
    "*- Google colab notebooks <br><a href='https://colab.research.google.com/drive/1zpdJv2LT_fxf_Ya2S6nBhzS2CItG36vI#scrollTo=wgaOFKfp-844'>notebook</a>\n",
    "<br><br>\n",
    "*- E para rodar:<br>\n",
    "    via terminal: jupyter notebook<br>"
   ]
  },
  {
   "cell_type": "markdown",
   "metadata": {
    "slideshow": {
     "slide_type": "slide"
    }
   },
   "source": [
    "##### O que pode vir depois:\n",
    "* Utilizar docker para \"empacotar\" os notebooks, data sources, libraries.\n",
    "* Compartilhar na nuvem com Binder\n",
    "* Compartilhar com nbviewer\n",
    "* Pesquisar mais ..."
   ]
  },
  {
   "cell_type": "code",
   "execution_count": 15,
   "metadata": {
    "slideshow": {
     "slide_type": "slide"
    }
   },
   "outputs": [
    {
     "data": {
      "application/vnd.jupyter.widget-view+json": {
       "model_id": "d75fd4db97c1417698cb76b7f3843da4",
       "version_major": 2,
       "version_minor": 0
      },
      "text/plain": [
       "interactive(children=(IntSlider(value=20, description='x', max=60, min=-20), IntSlider(value=20, description='…"
      ]
     },
     "metadata": {},
     "output_type": "display_data"
    }
   ],
   "source": [
    "### Interativo\n",
    "from ipywidgets import interact\n",
    "\n",
    "def uma_funcao(x, y):\n",
    "    return x + y\n",
    "\n",
    "interact(uma_funcao, x=20, y = 20);"
   ]
  },
  {
   "cell_type": "code",
   "execution_count": 10,
   "metadata": {
    "slideshow": {
     "slide_type": "subslide"
    }
   },
   "outputs": [
    {
     "data": {
      "application/vnd.jupyter.widget-view+json": {
       "model_id": "ec2500a4da2549afbb5c512e62c6b3a6",
       "version_major": 2,
       "version_minor": 0
      },
      "text/plain": [
       "interactive(children=(FloatSlider(value=1.0, description='k', max=10.0, min=1.0), Output()), _dom_classes=('wi…"
      ]
     },
     "metadata": {},
     "output_type": "display_data"
    }
   ],
   "source": [
    "### Para analises maiores\n",
    "from ipywidgets import interact\n",
    "import numpy as np\n",
    "import matplotlib.pyplot as plt\n",
    "\n",
    "def pltcur(k=1):\n",
    "    x = np.linspace(-2,2,200)\n",
    "    plt.plot(x, np.cos(2*np.pi*k*x));\n",
    "interact(pltcur, k=(1,10,0.1));"
   ]
  },
  {
   "cell_type": "code",
   "execution_count": 17,
   "metadata": {
    "scrolled": true,
    "slideshow": {
     "slide_type": "subslide"
    }
   },
   "outputs": [
    {
     "data": {
      "image/jpeg": "[encoded data removed]",
      "text/html": [
       "\n",
       "        <iframe\n",
       "            width=\"600\"\n",
       "            height=\"450\"\n",
       "            src=\"https://www.youtube.com/embed/Wd6a3JIFH0s\"\n",
       "            frameborder=\"0\"\n",
       "            allowfullscreen\n",
       "        ></iframe>\n",
       "        "
      ],
      "text/plain": [
       "<IPython.lib.display.YouTubeVideo at 0x7fe8948f4240>"
      ]
     },
     "execution_count": 17,
     "metadata": {},
     "output_type": "execute_result"
    }
   ],
   "source": [
    "from IPython.display import YouTubeVideo\n",
    "YouTubeVideo(\"Wd6a3JIFH0s\", width=600, height=450)"
   ]
  },
  {
   "cell_type": "code",
   "execution_count": 60,
   "metadata": {
    "slideshow": {
     "slide_type": "subslide"
    }
   },
   "outputs": [
    {
     "data": {
      "text/html": [
       "<h1>Hello, world!</h1>"
      ],
      "text/plain": [
       "<IPython.core.display.HTML object>"
      ]
     },
     "metadata": {},
     "output_type": "display_data"
    }
   ],
   "source": [
    "from IPython.display import HTML\n",
    "\n",
    "display(HTML('<h1>Hello, world!</h1>'))"
   ]
  },
  {
   "cell_type": "code",
   "execution_count": 18,
   "metadata": {
    "slideshow": {
     "slide_type": "subslide"
    }
   },
   "outputs": [
    {
     "data": {
      "text/html": [
       "\n",
       "        <iframe\n",
       "            width=\"600\"\n",
       "            height=\"200\"\n",
       "            src=\"http://stackoverflow.org\"\n",
       "            frameborder=\"0\"\n",
       "            allowfullscreen\n",
       "        ></iframe>\n",
       "        "
      ],
      "text/plain": [
       "<IPython.lib.display.IFrame at 0x7fe893b26c50>"
      ]
     },
     "execution_count": 18,
     "metadata": {},
     "output_type": "execute_result"
    }
   ],
   "source": [
    "from IPython.display import IFrame\n",
    "\n",
    "IFrame(src='http://stackoverflow.org',\n",
    "      width=600, height=200)"
   ]
  },
  {
   "cell_type": "code",
   "execution_count": 19,
   "metadata": {
    "slideshow": {
     "slide_type": "subslide"
    }
   },
   "outputs": [
    {
     "data": {
      "text/html": [
       "<iframe src=http://www.nature.com/news/interactive-notebooks-sharing-the-code-1.16261 width=500 height=250></iframe>"
      ],
      "text/plain": [
       "<IPython.core.display.HTML object>"
      ]
     },
     "execution_count": 19,
     "metadata": {},
     "output_type": "execute_result"
    }
   ],
   "source": [
    "from IPython.display import HTML....\n",
    "HTML('<iframe src=http://www.nature.com/news/interactive-notebooks-sharing-the-code-1.16261 width=500 height=250></iframe>')"
   ]
  },
  {
   "cell_type": "code",
   "execution_count": 20,
   "metadata": {
    "slideshow": {
     "slide_type": "subslide"
    }
   },
   "outputs": [
    {
     "data": {
      "text/html": [
       "<iframe src=https://c.xkcd.com/random/comic/ width=800 height=350></iframe>"
      ],
      "text/plain": [
       "<IPython.core.display.HTML object>"
      ]
     },
     "execution_count": 20,
     "metadata": {},
     "output_type": "execute_result"
    }
   ],
   "source": [
    "from IPython.display import HTML\n",
    "HTML('<iframe src=https://c.xkcd.com/random/comic/ width=800 height=350></iframe>')"
   ]
  },
  {
   "cell_type": "markdown",
   "metadata": {
    "slideshow": {
     "slide_type": "subslide"
    }
   },
   "source": [
    "Usando Latex:<br> 'e^x=\\sum_{i=0}^\\infty \\frac{1}{i!}x^i' <br>->\n",
    "$$e^x=\\sum_{i=0}^\\infty \\frac{1}{i!}x^i$$\n",
    "<br>\n",
    "<br>\n",
    "Ou algo mais bonito:<br>\n",
    "\\begin{align}\n",
    "\\nabla \\times \\vec{\\mathbf{B}} -\\, \\frac1c\\, \\frac{\\partial\\vec{\\mathbf{E}}}{\\partial t} & = \\frac{4\\pi}{c}\\vec{\\mathbf{j}} \\\\\n",
    "\\nabla \\cdot \\vec{\\mathbf{E}} & = 4 \\pi \\rho \\\\\n",
    "\\nabla \\times \\vec{\\mathbf{E}}\\, +\\, \\frac1c\\, \\frac{\\partial\\vec{\\mathbf{B}}}{\\partial t} & = \\vec{\\mathbf{0}} \\\\\n",
    "\\nabla \\cdot \\vec{\\mathbf{B}} & = 0\n",
    "\\end{align}"
   ]
  },
  {
   "cell_type": "markdown",
   "metadata": {
    "slideshow": {
     "slide_type": "slide"
    }
   },
   "source": [
    "Ta, mas como criei esta apresentação:\n",
    "\n",
    "    - Simples: o notebook pode ser convertido em html, pdf, slides.html, latex ..."
   ]
  },
  {
   "cell_type": "code",
   "execution_count": 14,
   "metadata": {
    "slideshow": {
     "slide_type": "subslide"
    }
   },
   "outputs": [
    {
     "name": "stdout",
     "output_type": "stream",
     "text": [
      "Process is terminated.\n"
     ]
    }
   ],
   "source": [
    "#Rodando o comando abaixo\n",
    "%%bash\n",
    "jupyter nbconvert presentation_jundiai.ipynb --to slides --post serve"
   ]
  },
  {
   "cell_type": "markdown",
   "metadata": {
    "slideshow": {
     "slide_type": "subslide"
    }
   },
   "source": [
    "Ou utilizando uma lib chamada RISE (Reveal.js - Jupyter/IPython Slideshow Extension)"
   ]
  },
  {
   "cell_type": "markdown",
   "metadata": {
    "slideshow": {
     "slide_type": "slide"
    }
   },
   "source": [
    "Referências:<br>\n",
    "* https://www.oreilly.com/radar/what-is-jupyter/ <br>\n",
    "* https://jupyter4edu.github.io/jupyter-edu-book/<br>\n",
    "* https://jupyter.readthedocs.io/en/latest/content-quickstart.html<br>\n",
    "* https://notebooks.azure.com/mrn39/projects/MDI-workshopFA18/html/Data_collection_Analysis2.ipynb <br>\n",
    "* https://newsletter.jupyter.org/jupyter-newsletter-3-may-18-2016-97ace1129e65<br>\n",
    "* https://jupyter4edu.github.io/jupyter-edu-book/ <br>\n",
    "* https://nbviewer.jupyter.org/ <br>"
   ]
  },
  {
   "cell_type": "markdown",
   "metadata": {
    "slideshow": {
     "slide_type": "slide"
    }
   },
   "source": [
    "## Perguntas?"
   ]
  },
  {
   "cell_type": "markdown",
   "metadata": {},
   "source": [
    "### This presentation is in https://nbviewer.jupyter.org/github/Diogo-Esteves/presentations/blob/master/presentation_grupy_2019/Jupyter-diogoEsteves/presentation_jundiai.ipynb"
   ]
  },
  {
   "cell_type": "code",
   "execution_count": null,
   "metadata": {},
   "outputs": [],
   "source": []
  }
 ],
 "metadata": {
  "celltoolbar": "Slideshow",
  "kernelspec": {
   "display_name": "Python 3",
   "language": "python",
   "name": "python3"
  },
  "language_info": {
   "codemirror_mode": {
    "name": "ipython",
    "version": 3
   },
   "file_extension": ".py",
   "mimetype": "text/x-python",
   "name": "python",
   "nbconvert_exporter": "python",
   "pygments_lexer": "ipython3",
   "version": "3.5.2"
  }
 },
 "nbformat": 4,
 "nbformat_minor": 2
}
